{
 "cells": [
  {
   "cell_type": "markdown",
   "id": "862a5c77",
   "metadata": {
    "slideshow": {
     "slide_type": "slide"
    }
   },
   "source": [
    "## <font color='blue'>Welcome</font>\n",
    "\n",
    "* Youngsu Kim, assistant professor of mathematics \n",
    "* High-performance computing initiative at CSUSB\n",
    "* Introduce high-performance computing; \n",
    "* Pacific Research Platform (PRP)\n",
    "* Role of HPC team\n",
    "\n",
    "---\n"
   ]
  },
  {
   "cell_type": "markdown",
   "id": "18b67d52",
   "metadata": {
    "slideshow": {
     "slide_type": "slide"
    }
   },
   "source": [
    "## <font color='blue'>HPC Team At CSUSB</font>\n",
    "\n",
    "* Dr. Sam Sudhakar, Vice President and Chief Information Officer \n",
    "\n",
    "**HPCI Team at ATI**\n",
    "* Dr. Bradford Owen, Director and Chief Academic Technology Officer, bOwen@csusb.edu\n",
    "* Dung Vu, Analyst/Programmer, DVu@csusb.edu\n",
    "* James MacDonell, Operating Systems Analyst, James.Macdonell@csusb.edu\n",
    "* Youngsu Kim, HPC Faculty Fellow, Youngsu.Kim@csusb.edu\n",
    "\n",
    "* https://www.csusb.edu/its/innovation-its\n",
    "* https://www.csusb.edu/academic-technologies-innovation/xreal-lab-and-innovation/high-performance-computing\n",
    "\n"
   ]
  },
  {
   "cell_type": "markdown",
   "id": "fc6400b3",
   "metadata": {
    "slideshow": {
     "slide_type": "slide"
    }
   },
   "source": [
    "## <font color='blue'>High-Performance Computing</font>\n",
    "\n",
    "High-Performance Computing (HPC); from [U.S. Geological Survey\n",
    "](https://www.usgs.gov/core-science-systems/sas/arc/about/what-high-performance-computing). \n",
    "\n",
    "> __High Performance Computing__ most generally refers to the practice of __aggregating computing power__ in a way that delivers __much higher performance__ than one could get out of a typical __desktop computer or workstation__ in order to __solve large problems__ in science, engineering, or business. \n",
    "\n",
    "\n",
    "__Example__:\n",
    "* Artificial integlligence, Virtual reality, Big data, Machine (deep) learning;\n",
    "\n",
    "---"
   ]
  },
  {
   "cell_type": "markdown",
   "id": "cf2eec94",
   "metadata": {
    "slideshow": {
     "slide_type": "slide"
    }
   },
   "source": [
    "## <font color='blue'>Is High performance computing better than my personal computer?</font>\n",
    "\n",
    "<br>\n",
    "<br>\n",
    "<br>\n",
    "<br>\n",
    "<br>\n",
    "<br>\n",
    "    \n",
    "Answer: it depends...\n",
    "\n",
    "### Let's compare \n",
    "* Personal computers vs high-performance computing\n",
    "\n",
    "**Example**\n",
    "Let's look at some cars.\n",
    "    \n",
    "---"
   ]
  },
  {
   "cell_type": "markdown",
   "id": "4b069f9a",
   "metadata": {
    "slideshow": {
     "slide_type": "skip"
    }
   },
   "source": [
    "---"
   ]
  },
  {
   "cell_type": "markdown",
   "id": "2279bdab",
   "metadata": {
    "slideshow": {
     "slide_type": "slide"
    }
   },
   "source": [
    "![Car1](Images/Car-1.jpg)|![Car2](Images/Car-2.jpg)|![Car3](Images/Car-3.jpg)\n",
    "-|-|-\n",
    "\n",
    "---"
   ]
  },
  {
   "cell_type": "markdown",
   "id": "f36d4d5b",
   "metadata": {
    "slideshow": {
     "slide_type": "slide"
    }
   },
   "source": [
    "## Cars $\\longleftrightarrow$ Personal computers\n",
    "\n",
    "![Car1](Images/Car-1.jpg)|$\\longleftrightarrow$|![Desktop](Images/desktop-1.jpg)\n",
    "---|---|---\n",
    "\n",
    "---"
   ]
  },
  {
   "cell_type": "markdown",
   "id": "9f454050",
   "metadata": {
    "slideshow": {
     "slide_type": "slide"
    }
   },
   "source": [
    "## Another type of cars\n",
    "\n",
    "![F1](Images/F1-small.jpg)"
   ]
  },
  {
   "cell_type": "markdown",
   "id": "1e1ba0b8",
   "metadata": {
    "slideshow": {
     "slide_type": "slide"
    }
   },
   "source": [
    "## Formula 1 $\\longleftrightarrow$ High-performance computing\n",
    "\n",
    "![F1](Images/F1-small.jpg)|$\\longleftrightarrow$|![HPC](Images/HPC-1.jpeg)\n",
    "---|---|---"
   ]
  },
  {
   "cell_type": "markdown",
   "id": "62e5d15a",
   "metadata": {
    "slideshow": {
     "slide_type": "slide"
    }
   },
   "source": [
    "## <font color='blue'>We have access to HPC! But...</font>\n",
    "\n",
    "![ENIAC](Images/eniac-1.PNG)|![ENIAC](Images/eniac-2.PNG)\n",
    "---|---"
   ]
  },
  {
   "cell_type": "markdown",
   "id": "250be96f",
   "metadata": {
    "slideshow": {
     "slide_type": "slide"
    }
   },
   "source": [
    "---\n",
    "## <font color='blue'>Server Options (XSEDE and PRP) at CSUSB</font>\n",
    "\n",
    "* Extreme Science and Engineering Discovery Environment (XSEDE) in 2015 \n",
    "* Pacific Research Platform (PRP) in 2017; better suited for our faculty, more customizable \n",
    "\n",
    "    \n",
    "## Super-computers, XSEDE, https://portal.xsede.org\n",
    "---- excerpt from Dr. Owen's email on 4/7/2021\n",
    "* Pittsburgh Super Computers https://www.psc.edu/\n",
    "* San Diego Supercomputer Center https://www.sdsc.edu/\n",
    "* Texas Advanced Computing Center: https://www.tacc.utexas.edu/\n",
    "* Open Science Grid (OSG): 200,000.0 Sus : https://opensciencegrid.org/\n",
    "* Jetstream https://kb.iu.edu/d/bfde; \n",
    "    * They are deploying Jestream2 system with GPU for Windows software that other platforms do not. We will be testing and introduce to Faculty.\n",
    "\n",
    "---"
   ]
  },
  {
   "cell_type": "markdown",
   "id": "dfd4306d",
   "metadata": {
    "slideshow": {
     "slide_type": "slide"
    }
   },
   "source": [
    "San Diego Supercomputer Center https://www.sdsc.edu/\n",
    "* SDSC Dell Cluster with NVIDIA V100 GPUs NVLINK and HDR IB (Expanse GPU): 2,500.0 GPU Hours\n",
    "* SDSC Expanse Projects Storage: 500.0 GB\n",
    "* SDSC Dell Cluster with [AMD Rome](https://www.nas.nasa.gov/hecc/support/kb/amd-rome-processors_658.html) HDR IB (Expanse): 50,000.0 Core-hours\n",
    "* SDSC Medium-term disk storage (Data Oasis): 500.0 GB\n",
    "   \n",
    "<!-- Pittsburgh Super Computers https://www.psc.edu/\n",
    "* PSC Bridges-2 GPU (Bridges-2 GPU): 2,500.0 GPU Hours\n",
    "* PSC Bridges-2 Extreme Memory (Bridges-2): 1,000.0 Core-hours\n",
    "* PSC Bridges-2 Storage (Ocean): 500.0 GB\n",
    "* PSC Bridges-2 Regular Memory (Bridges-2): 50,000.0 Core-hours -->\n",
    "\n",
    "**Necessary information to provide to start a project**\n",
    "\n",
    "* Which supercomputing center(s) listed below you request, the **estimated CPU and GPU hours needed, and (if any) requested amount of disc storage**. [If you like, high performance computing consultants Dung Vu (DVu@csusb.edu) and James Macdonell (James.Macdonell@csusb.edu) can assist you in defining your resource needs.]\n",
    "* Before accessing the allocated resources, users need to refer the user’s guides for the relevant center(s): \n",
    "\n",
    "---"
   ]
  },
  {
   "cell_type": "markdown",
   "id": "5204fcef",
   "metadata": {
    "slideshow": {
     "slide_type": "slide"
    }
   },
   "source": [
    "## <font color='blue'>Pacific Reserch Platform</font>\n",
    "\n",
    "* Pacific Reserch Platform, https://pacificresearchplatform.org/userdocs/start/contact/, <br>\n",
    " is NSF-funded and is our main server. \n",
    "* Resources on PRP, https://nautilus.optiputer.net/resources"
   ]
  },
  {
   "cell_type": "markdown",
   "id": "b4335c5a",
   "metadata": {
    "slideshow": {
     "slide_type": "slide"
    }
   },
   "source": [
    "## <font color='blue'>CSUSB On-going Projects on Pacific Research Platform\n",
    "\n",
    "|Projects | Departments | faculty / RA | Systems | HPC Resources | Requirements|\n",
    ":-: | :-: | :-- | :--| :-:| :-:\n",
    "Advanced Functional Materials|Chemistry|Joyce Pham/Asa Toombs,Valentin Acosta,Mayra Silva Barcenas,Katharine Stamm | VASP Simulation| PRP| CPU+GPU\n",
    "Ancient Egytian Wadi el-Hudi expedition | History | Kate Liszka, Bryan Kraemer | MetaShape | PRP, Pittsburgh | CPU+GPU\n",
    "Drone video Processing | Art & Design | Kurt Collins | Trimble Realworks | PRP | CPU+GPU\n",
    "Psychology|Psychology|Pablo Gomez|R and Rstudio|PRP|CPU+GPU \n",
    "Geological Sciences | Geological Sciences | Kerry Cato/Geo-Science students| MetaShape QTmodeler | PRP | CPU+GPU \n",
    "HPCI - Math | Mathematics | Youngsu Kim | Macaulay2,Sage| PRP | CPU"
   ]
  },
  {
   "cell_type": "markdown",
   "id": "60baba42",
   "metadata": {
    "slideshow": {
     "slide_type": "slide"
    }
   },
   "source": [
    "\n",
    "* This is the end of the general introduction to our high-performance comuting and Pacific Resrach Platform. \n",
    "\n",
    "**What's left?**\n",
    "\n",
    "* How to get started on PRP https://pacificresearchplatform.org/userdocs/start/toc-start/\n",
    "* Example of running software on the server\n",
    "* Ready-made software \n",
    "* GUI\n",
    "\n",
    "<br>\n",
    "<br>\n",
    "<br>\n",
    "<br>\n",
    "<br>\n",
    "<br>\n",
    "<br>\n",
    "<br>\n",
    "<br>\n",
    "<br>\n",
    "\n",
    "---\n"
   ]
  },
  {
   "cell_type": "markdown",
   "id": "78db22fd",
   "metadata": {
    "slideshow": {
     "slide_type": "slide"
    }
   },
   "source": [
    "## What is command line? \n",
    "* Windows; <kbd>⊞ Win</kbd> + <kbd> R </kbd> -> type \"cmd\" -> press <kbd> return </kbd>\n",
    "\n",
    "* Mac; <kbd >⌘ Command</kbd> + <kbd> Space bar</kbd> -> type \"terminal\" -> press <kbd> return </kbd>\n",
    "\n",
    "* Linux ??\n",
    "\n",
    "![Win-R](https://upload.wikimedia.org/wikipedia/commons/9/93/Windows_Terminal_v1.0_1138x624.png)|![Mac-Sp](https://upload.wikimedia.org/wikipedia/commons/7/78/Appleterminal2.png)\n",
    "--- | ---"
   ]
  },
  {
   "cell_type": "markdown",
   "id": "cb633be4",
   "metadata": {
    "slideshow": {
     "slide_type": "slide"
    }
   },
   "source": [
    "## Good and Bad\n",
    "\n",
    "Why not using GUI?  \n",
    "\n",
    "* GUIs are more intuitive, but use more resources\n",
    "* Windows and GUI interface  \n",
    "    * Possible option, expanding, but can be a bit limited\n"
   ]
  },
  {
   "cell_type": "markdown",
   "id": "c641cb8f",
   "metadata": {
    "slideshow": {
     "slide_type": "slide"
    }
   },
   "source": [
    "## <font color='blue'>How much do we need to know to start our project</font>\n",
    "\n",
    "\n",
    "## Example\n",
    "\n",
    "* This is a `Python` code which prints out \n",
    "    * \"Hello! This is Friday. I want beer.\" \n",
    "* As this may sound too simple and exciting, <br>\n",
    "    let's say we add two number 1 and 2.\n",
    "\n",
    "```python\n",
    "print(\"Hello!\")\n",
    "print(\"This is Friday. I want beer.\")\n",
    "1+2\n",
    "```\n",
    "---"
   ]
  },
  {
   "cell_type": "markdown",
   "id": "e7597201",
   "metadata": {
    "slideshow": {
     "slide_type": "slide"
    }
   },
   "source": [
    "## <font color='blue'>Running it on my computer vs using the HPC server</font>\n",
    "\n",
    "## Local machine\n",
    "My local computer, once we install `Python`, we can do this."
   ]
  },
  {
   "cell_type": "code",
   "execution_count": 2,
   "id": "c471e109",
   "metadata": {
    "slideshow": {
     "slide_type": "slide"
    }
   },
   "outputs": [
    {
     "name": "stdout",
     "output_type": "stream",
     "text": [
      "Hello!\n",
      "This is Friday. I want beer.\n",
      "1 plus 2 is 3\n"
     ]
    }
   ],
   "source": [
    "print(\"Hello!\")\n",
    "print(\"This is Friday. I want beer.\")\n",
    "print(\"1 plus 2 is\", 1+2)"
   ]
  },
  {
   "cell_type": "markdown",
   "id": "08313d2c",
   "metadata": {
    "slideshow": {
     "slide_type": "slide"
    }
   },
   "source": [
    "## On the server\n",
    "\n",
    "Let's explore it on the server; \n",
    "\n",
    "**Goal**: Run `Python` script (code) on the server\n",
    "\n",
    "_Caveat:_ We need to choose and set up the system.\n",
    "\n",
    "**We need**\n",
    "* `Python` complier\n",
    "* An OS to run Python; e.g., Mac OS, Windows 10, Linux\n",
    "    * `Linux` is available on the server; However, `Windows` support is there.\n",
    "    * [Ubuntu](https://www.google.com/search?q=ubuntu) is a popular Linux distribution.\n",
    "\n",
    "**To run `Python` on `Ubuntu` on `PRP`**  \n",
    "> we need to use `Python` installed `Ubuntu` image on PRP\n",
    "\n",
    "**Example/comparison**\n",
    "\n",
    "|~ | PC | PRP   \n",
    "|:--: |:--: | :--: \n",
    "|Program | Python | Python \n",
    "|OS | Mac OS | Linux image\n",
    "|Computer | Macbook | Server\n"
   ]
  },
  {
   "cell_type": "markdown",
   "id": "60808ccc",
   "metadata": {
    "slideshow": {
     "slide_type": "slide"
    }
   },
   "source": [
    "**What is (virtual machine) image**\n",
    "\n",
    "* On Pc, [Parallels Desktop](https://www.parallels.com/) is popular; installs everything\n",
    "* On PRP, common parts of the OS system is stored, \n",
    "    * One can use images from \n",
    "    * [Docker Hub](https://hub.docker.com/search?q=ubuntu&type=image); \n",
    "<!--         * Docker hub = Virtual Machine Images -->\n",
    "<!--         * Docker = Software that runs virtual machine images (on our computer) -->\n",
    "    * To use/send this image on the server, we need `Kubernetes`\n",
    "* Concept of container\n",
    "* As usual, technical things can be skipped or ingored\n",
    "\n",
    "## Three ways to connect\n",
    "\n",
    "* Terminal\n",
    "* GUI\n",
    "* Jupyter Notebook\n",
    "\n",
    "---"
   ]
  },
  {
   "cell_type": "markdown",
   "id": "70c46856",
   "metadata": {
    "slideshow": {
     "slide_type": "slide"
    }
   },
   "source": [
    "## Compatibility of Software/Program\n",
    "\n",
    "* Software available in Linux is easy to implement on the server \n",
    "    * R, Avogadro, Python, Sage,... \n",
    "    * https://www.linuxlinks.com/scientific/\n",
    "* Several programs are possible; Dung Vu and James Macdonell\n",
    "* Licensed software; \"yes\" \n",
    "\n"
   ]
  },
  {
   "cell_type": "markdown",
   "id": "7b70971e",
   "metadata": {
    "slideshow": {
     "slide_type": "slide"
    }
   },
   "source": [
    "### Our HPC team will\n",
    "* help you to set up\n",
    "* test programs \n",
    "* provide a `script` so by copying and pasting it, \n",
    "    * you will have a (virtual) image with your software installed,\n",
    "    * it will run on the server and\n",
    "    * save the outcome (data) you need.\n",
    "* Or we can provide a GUI environment. \n",
    "\n",
    "**What I can do** in addition to the experts Dung Vu & James MacDonell's support are \n",
    "* I can visit your office or you can visit my office,\n",
    "* We can go over the set-up process (account/Kubernetes),\n",
    "* discuss which software to use,\n",
    "* test them out in my account, ...\n",
    "* Also, I keep track of record and progress       "
   ]
  },
  {
   "cell_type": "markdown",
   "id": "1c744134",
   "metadata": {
    "slideshow": {
     "slide_type": "skip"
    }
   },
   "source": [
    "---\n",
    "\n",
    "If time permits, do \n",
    "* Demonstrate how to connect to server using Kebernetes\n",
    "* Demonstrate Ubuntu GUI on server\n",
    "\n",
    "---"
   ]
  },
  {
   "cell_type": "markdown",
   "id": "bec012db",
   "metadata": {
    "slideshow": {
     "slide_type": "slide"
    }
   },
   "source": [
    "# Thank you\n",
    "\n",
    "* Dr. Sam Sudhakar, Vice president and Chief Information Officer \n",
    "\n",
    "**HPCI Team at ATI**\n",
    "* Dr. Bradford Owen, Director and Chief Academic Technology Officer, bOwen@csusb.edu\n",
    "* Dung Vu, Analyst/Programmer, DVu@csusb.edu\n",
    "* James MacDonell, Operating Systems Analyst, James.Macdonell@csusb.edu\n",
    "* Youngsu Kim, HPC Faculty Fellow, JB320, Youngsu.Kim@csusb.edu\n",
    "\n",
    "* https://www.csusb.edu/its/innovation-its\n",
    "* https://www.csusb.edu/academic-technologies-innovation/xreal-lab-and-innovation/high-performance-computing\n",
    "\n"
   ]
  },
  {
   "cell_type": "code",
   "execution_count": 1,
   "id": "08967e3b",
   "metadata": {
    "slideshow": {
     "slide_type": "skip"
    }
   },
   "outputs": [
    {
     "data": {
      "text/html": [
       "<style>\n",
       "table {float:left}\n",
       "</style>\n"
      ],
      "text/plain": [
       "<IPython.core.display.HTML object>"
      ]
     },
     "metadata": {},
     "output_type": "display_data"
    }
   ],
   "source": [
    "%%html\n",
    "<style>\n",
    "table {float:left}\n",
    "</style>"
   ]
  }
 ],
 "metadata": {
  "celltoolbar": "Slideshow",
  "interpreter": {
   "hash": "b0fa6594d8f4cbf19f97940f81e996739fb7646882a419484c72d19e05852a7e"
  },
  "kernelspec": {
   "display_name": "Python 3 (ipykernel)",
   "language": "python",
   "name": "python3"
  },
  "language_info": {
   "codemirror_mode": {
    "name": "ipython",
    "version": 3
   },
   "file_extension": ".py",
   "mimetype": "text/x-python",
   "name": "python",
   "nbconvert_exporter": "python",
   "pygments_lexer": "ipython3",
   "version": "3.9.7"
  }
 },
 "nbformat": 4,
 "nbformat_minor": 5
}
